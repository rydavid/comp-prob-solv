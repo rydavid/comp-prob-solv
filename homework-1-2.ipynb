{
 "cells": [
  {
   "cell_type": "code",
   "execution_count": 16,
   "id": "21c75795-9e29-4207-b13b-8df8407979a6",
   "metadata": {
    "tags": []
   },
   "outputs": [
    {
     "name": "stdout",
     "output_type": "stream",
     "text": [
      "{'H1': [0.0, 0.0, 0.0], 'H2': [0.0, 0.0, 0.7414]}\n"
     ]
    }
   ],
   "source": [
    "# store cartesian coordinates for H2 in a dictionary\n",
    "H2 = {\n",
    "    \"H1\": [0.0000, 0.0000, 0.0000],\n",
    "    \"H2\": [0.0000, 0.0000, 0.7414]\n",
    "}\n",
    "print(H2)"
   ]
  },
  {
   "cell_type": "code",
   "execution_count": 17,
   "id": "170e811e-16f8-46d1-a1d5-705cde1f84c5",
   "metadata": {
    "tags": []
   },
   "outputs": [
    {
     "name": "stdout",
     "output_type": "stream",
     "text": [
      "{'O1': [0.0, 0.0, 0.1173], 'H2': [0.0, 0.7572, -0.4692], 'H3': [0.0, -0.7572, -0.4692]}\n"
     ]
    }
   ],
   "source": [
    "# store cartesian coordinates for H20 in a dictionary\n",
    "H2O = {\n",
    "    \"O1\": [0.0000,  0.0000,  0.1173],\n",
    "    \"H2\": [0.0000,  0.7572, -0.4692],\n",
    "    \"H3\": [0.0000, -0.7572, -0.4692]\n",
    "}\n",
    "print(H2O)"
   ]
  },
  {
   "cell_type": "code",
   "execution_count": 18,
   "id": "761b512d-113d-4d3f-ae95-04b85fb8d1a3",
   "metadata": {
    "tags": []
   },
   "outputs": [
    {
     "name": "stdout",
     "output_type": "stream",
     "text": [
      "{'C1': [0.0, 1.397, 0.0], 'C2': [1.2098, 0.6985, 0.0], 'C3': [1.2098, -0.6985, 0.0], 'C4': [0.0, -1.397, 0.0], 'C5': [-1.2098, -0.6985, 0.0], 'C6': [-1.2098, 0.6985, 0.0], 'H7': [0.0, 2.481, 0.0], 'H8': [2.1486, 1.2405, 0.0], 'H9': [2.1486, -1.2405, 0.0], 'H10': [0.0, -2.481, 0.0], 'H11': [-2.1486, -1.2405, 0.0], 'H12': [-2.1486, 1.2405, 0.0]}\n"
     ]
    }
   ],
   "source": [
    "# store cartesian coordinates for benzene in a dictionary\n",
    "benz = {\n",
    "    \"C1\":  [ 0.0000,  1.3970, 0.0000],\n",
    "    \"C2\":  [ 1.2098,  0.6985, 0.0000],\n",
    "    \"C3\":  [ 1.2098, -0.6985, 0.0000],\n",
    "    \"C4\":  [ 0.0000, -1.3970, 0.0000],\n",
    "    \"C5\":  [-1.2098, -0.6985, 0.0000],\n",
    "    \"C6\":  [-1.2098,  0.6985, 0.0000],\n",
    "    \"H7\":  [ 0.0000,  2.4810, 0.0000],\n",
    "    \"H8\":  [ 2.1486,  1.2405, 0.0000],\n",
    "    \"H9\":  [ 2.1486, -1.2405, 0.0000],\n",
    "    \"H10\": [ 0.0000, -2.4810, 0.0000],\n",
    "    \"H11\": [-2.1486, -1.2405, 0.0000],\n",
    "    \"H12\": [-2.1486,  1.2405, 0.0000]\n",
    "}\n",
    "print(benz)"
   ]
  },
  {
   "cell_type": "code",
   "execution_count": 19,
   "id": "f6ea6346-d777-4ce5-ba48-c20870f636ab",
   "metadata": {
    "tags": []
   },
   "outputs": [],
   "source": [
    "def compute_bond_length_og(coord1, coord2):\n",
    "    \"\"\"\n",
    "    Uses the distance formula to calculate the bond length between two atoms.\n",
    "\n",
    "    Parameters:\n",
    "    coord1 (list): Cartesian coordinates of first atom.\n",
    "    coord2 (list): Cartesian coordinates of second atom.\n",
    "\n",
    "    Returns:\n",
    "    float: Calculated bond length in angstroms.\n",
    "    \"\"\"\n",
    "    return sum([(coord1[i] - coord2[i]) ** 2 for i in range(len(coord1))]) ** (1/2)"
   ]
  },
  {
   "cell_type": "code",
   "execution_count": 20,
   "id": "2728abd3-3539-4f6d-98a9-9f24db14826b",
   "metadata": {
    "tags": []
   },
   "outputs": [],
   "source": [
    "def compute_bond_length(coord1, coord2):\n",
    "    \"\"\"\n",
    "    Uses the distance formula to calculate the bond length between two covalently bound atoms.\n",
    "\n",
    "    Parameters:\n",
    "    coord1 (list): Cartesian coordinates of first atom.\n",
    "    coord2 (list): Cartesian coordinates of second atom.\n",
    "\n",
    "    Returns:\n",
    "    float: Calculated bond length in angstroms.\n",
    "    \n",
    "    \n",
    "    Raises:\n",
    "    ValueError: If bond length is unreasonably large for covalent bond.\n",
    "    \"\"\"\n",
    "    # calculate bond length\n",
    "    bond_length = (sum([(coord1[i] - coord2[i]) ** 2 for i in range(len(coord1))])) ** 0.5\n",
    "    \n",
    "    # check if bond length is unreasonable\n",
    "    if bond_length > 2:\n",
    "        raise ValueError(f\"Bond length of {bond_length:.2f} angstroms is unreasonably large (>2 angstroms)\")\n",
    "    \n",
    "    return bond_length\n",
    "\n",
    "# I really am wanting to work on my method writing, so although I recognize that this does not technically\n",
    "# print a warning, hopefully this is alright!"
   ]
  },
  {
   "cell_type": "code",
   "execution_count": 21,
   "id": "b17ee5e6-6832-46f1-98d4-37d9b4f21332",
   "metadata": {
    "tags": []
   },
   "outputs": [],
   "source": [
    "import numpy as np"
   ]
  },
  {
   "cell_type": "code",
   "execution_count": 22,
   "id": "35db7cbe-38c3-4d59-8978-f6116a1787b7",
   "metadata": {
    "tags": []
   },
   "outputs": [],
   "source": [
    "def compute_bond_angle(coord1, coord2, coord3, display=True):\n",
    "    \"\"\"\n",
    "    Calculates the bond angle between three atoms.\n",
    "\n",
    "    Parameters:\n",
    "    coord1 (list): Cartesian coordinates of first atom.\n",
    "    coord2 (list): Cartesian coordinates of second atom.\n",
    "    coord3 (list): Cartesian coordinates of third atom.\n",
    "    keys (bool, optional): If True, prints the bond angle value in degrees and prints nothing if False.\n",
    "    \n",
    "\n",
    "    Returns:\n",
    "    float: Calculated bond angle in degrees.\n",
    "    \"\"\"\n",
    "    # find central atom\n",
    "    bond_lengths = []  # initialize array to store computed bond lengths\n",
    "    a = compute_bond_length_og(coord1, coord2)\n",
    "    bond_lengths.append(a)\n",
    "    b = compute_bond_length_og(coord1, coord3)\n",
    "    bond_lengths.append(b)\n",
    "    c = compute_bond_length_og(coord2, coord3)\n",
    "    bond_lengths.append(c)\n",
    "    max_val = max(bond_lengths)\n",
    "    if max_val == a:\n",
    "        central_atom = coord3\n",
    "        a = coord1\n",
    "        b = coord2\n",
    "    elif max_val == b:\n",
    "        central_atom = coord2\n",
    "        a = coord1\n",
    "        b = coord3\n",
    "    elif max_val == c:\n",
    "        central_atom = coord1\n",
    "        a = coord2\n",
    "        b = coord3\n",
    "    \n",
    "    # convert lists to NumPy arrays\n",
    "    central_atom = np.array(central_atom)\n",
    "    a = np.array(a)\n",
    "    b = np.array(b)\n",
    "    \n",
    "    # calculate bond angle\n",
    "    theta = np.arccos(np.dot(a - central_atom, b - central_atom) / (np.linalg.norm(a - central_atom) * np.linalg.norm(b - central_atom)))\n",
    "    theta = np.degrees(theta)  # convert radians to degrees\n",
    "    \n",
    "    # print type\n",
    "    if display == True:\n",
    "        if theta == 90:\n",
    "            print(f'The bond angle is right: theta = {theta:.2f} degrees')\n",
    "        elif theta > 90:\n",
    "            print(f'The bond angle is obtuse: theta = {theta:.2f} degrees')\n",
    "        elif theta < 90:\n",
    "            print(f'The bond angle is acute: theta = {theta:.2f} degrees')\n",
    "    \n",
    "    return theta"
   ]
  },
  {
   "cell_type": "code",
   "execution_count": 23,
   "id": "30c54258-9451-40be-8b7c-f5b8f8752e8c",
   "metadata": {
    "tags": []
   },
   "outputs": [],
   "source": [
    "# create a dictionary to store threshold bond lengths for specific bond types\n",
    "# (added 0.2 angstroms to average bond length and rounded up for threshold)\n",
    "bond_thresholds = {\n",
    "        ('C', 'C'): 1.8,  # average bond length = 1.54 angstroms\n",
    "        ('C', 'H'): 1.3,  # average bond length = 1.09 angstroms\n",
    "        ('H', 'H'): 0.8,  # average isn't the best here. instead \n",
    "                          # rounded H-H bond length up\n",
    "        ('H', 'O'): 1.3   # average bond length = 1.01 angstroms\n",
    "    }\n",
    "\n",
    "# redefine compute_bond_lengths() to throw exceptions for more specific cases\n",
    "def compute_bond_length(coord1, coord2, keys=False):\n",
    "    \"\"\"\n",
    "    Uses the distance formula to calculate the bond length between two covalently bound atoms.\n",
    "\n",
    "    Parameters:\n",
    "    coord1 (list): Cartesian coordinates of first atom.\n",
    "    coord2 (list): Cartesian coordinates of second atom.\n",
    "    keys (bool, optional): If True, returns the dictionary keys of input coordinates.\n",
    "\n",
    "    Returns:\n",
    "    float or tuple: \n",
    "        If `keys` is False:\n",
    "            - bond_length (float): Calculated bond length in angstroms.\n",
    "        If `keys` is True:\n",
    "            - tuple: A tuple containing:\n",
    "                - bond_length (float): Calculated bond length in angstroms.\n",
    "                - key1 (str): The key corresponding to the value of coord1.\n",
    "                - key2 (str): The key corresponding to the value of coord2.\n",
    "        \n",
    "    Raises:\n",
    "    ValueError: If bond lengths of a certain type exceed threshold values defined for that type of bond.\n",
    "    \"\"\"\n",
    "    # get keys for coord1 and coord2 from their values\n",
    "    for d in [H2, H2O, benz]:\n",
    "        for key, value in d.items():\n",
    "            if value == coord1:\n",
    "                key1 = key\n",
    "            elif value == coord2:\n",
    "                key2 = key\n",
    "    atom1 = key1[0]  # get atom type from first char in key\n",
    "    atom2 = key2[0]  # # get atom type from first char in key\n",
    "    \n",
    "    # ensure order doesn't matter since dictionary keys are alphabetized\n",
    "    bond_type = tuple(sorted([atom1, atom2]))\n",
    "    \n",
    "    # calculate bond length\n",
    "    bond_length = (sum([(coord1[i] - coord2[i]) ** 2 for i in range(len(coord1))])) ** 0.5\n",
    "    \n",
    "    # check if bond length is unreasonable\n",
    "    if bond_type in bond_thresholds and bond_length > bond_thresholds[bond_type]:\n",
    "        raise ValueError(f\"Bond length of {bond_length:.2f} angstroms between {atom1} and {atom2} is unreasonably large (> {bond_thresholds[bond_type]} angstroms)\")\n",
    "    \n",
    "    if keys == False:\n",
    "        return bond_length\n",
    "    else:\n",
    "        return bond_length, key1, key2"
   ]
  },
  {
   "cell_type": "code",
   "execution_count": 24,
   "id": "fdcbb223-99f9-4e04-9ebb-7d4a97754ca4",
   "metadata": {
    "tags": []
   },
   "outputs": [],
   "source": [
    "def calculate_all_bond_lengths(molecule):\n",
    "    \"\"\"\n",
    "    Calculates all of the bond lengths between bound atoms in a molecule.\n",
    "\n",
    "    Parameters: \n",
    "    molecule (dictionary): Dictionary of cartesian coordinates for all atoms in a molecule.\n",
    "\n",
    "    Returns: \n",
    "    None\n",
    "    \"\"\"\n",
    "    # store bonded atoms in a list\n",
    "    bonded_atoms = []  # initialize list for bonded pairs of atoms\n",
    "    bond_lengths = []  # initialize list for bond lengths\n",
    "    for atom1 in molecule:\n",
    "        for atom2 in molecule:\n",
    "            if atom1 != atom2:\n",
    "                try:\n",
    "                    bond = compute_bond_length(molecule[atom1], molecule[atom2])\n",
    "                except ValueError as e:\n",
    "                    result = None\n",
    "                else:\n",
    "                    pair = [atom1, atom2]  # a bonded pair of atoms\n",
    "                    \n",
    "                    # ensure the pair of atoms isn't already in the list\n",
    "                    if not pair[::-1] in bonded_atoms:\n",
    "                        bonded_atoms.append([atom1, atom2])\n",
    "                        dialog = f\"The bond length between {atom1} and {atom2} is {bond:.2f} angstroms.\"\n",
    "                        bond_lengths.append(dialog)\n",
    "    \n",
    "    # display bond length information\n",
    "    for bond in bond_lengths:\n",
    "        print(bond)\n",
    "    \n",
    "    return None                  "
   ]
  },
  {
   "cell_type": "code",
   "execution_count": 25,
   "id": "0f3505e5-3e09-4c05-9496-cef916d7c00f",
   "metadata": {
    "tags": []
   },
   "outputs": [],
   "source": [
    "def calculate_all_bond_angles(molecule):\n",
    "    \"\"\"\n",
    "    Calculates all of the bond lengths between bound atoms in a molecule.\n",
    "\n",
    "    Parameters: \n",
    "    molecule (dictionary): Dictionary of cartesian coordinates for all atoms in a molecule.\n",
    "\n",
    "    Returns: \n",
    "    None\n",
    "    \"\"\"\n",
    "    # store bonded atoms in a list\n",
    "    bonded_atoms = []  # initialize list for bonded pairs of atoms\n",
    "    for atom1 in molecule:\n",
    "        for atom2 in molecule:\n",
    "            if atom1 != atom2:\n",
    "                try:\n",
    "                    bond = compute_bond_length(molecule[atom1], molecule[atom2])\n",
    "                except ValueError as e:\n",
    "                    result = None\n",
    "                else:\n",
    "                    pairs = [atom1, atom2]  # a bonded pair of atoms\n",
    "                    \n",
    "                    # ensure the pair of atoms isn't already in the list\n",
    "                    if not pairs[::-1] in bonded_atoms:\n",
    "                        bonded_atoms.append([atom1, atom2])\n",
    "                        \n",
    "    # store atoms that form a bond angle (three atoms with a central atom connecting the others)\n",
    "    bonded_in_angle = []  # initialize list for three atoms bonded in series\n",
    "    bonded_in_angle_dialog = []  # initialize list for dialog\n",
    "    for pair0 in bonded_atoms:\n",
    "        for pair1 in bonded_atoms:\n",
    "            \n",
    "            # ensure set of atoms isn't already in list\n",
    "            if pair0[0] in pair1 and pair0[1] != pair1[1] and not [pair1[1], pair1[0], pair0[1]] in bonded_in_angle:\n",
    "                triplet = [pair0[1], pair1[0], pair1[1]]\n",
    "                angle = compute_bond_angle(molecule[triplet[0]], molecule[triplet[1]], molecule[triplet[2]], display=False)\n",
    "                dialog = f\"The bond angle between {triplet[0]},  {triplet[1]}, and {triplet[2]} is {angle:.2f} degrees.\"\n",
    "                bonded_in_angle.append(triplet)\n",
    "                bonded_in_angle_dialog.append(dialog)\n",
    "    \n",
    "    # display bond length information\n",
    "    for angle in bonded_in_angle_dialog:\n",
    "        print(angle)\n",
    "    \n",
    "    return None      "
   ]
  },
  {
   "cell_type": "code",
   "execution_count": 26,
   "id": "222f7326-25e7-4084-8684-66d8b7c278ea",
   "metadata": {},
   "outputs": [
    {
     "name": "stdout",
     "output_type": "stream",
     "text": [
      "The bond angle between H2,  O1, and H3 is 104.48 degrees.\n",
      "The bond length between O1 and H2 is 0.96 angstroms.\n",
      "The bond length between O1 and H3 is 0.96 angstroms.\n"
     ]
    }
   ],
   "source": [
    "calculate_all_bond_angles(H2O)\n",
    "calculate_all_bond_lengths(H2O)"
   ]
  },
  {
   "cell_type": "code",
   "execution_count": null,
   "id": "3ec97e3d",
   "metadata": {},
   "outputs": [],
   "source": []
  }
 ],
 "metadata": {
  "kernelspec": {
   "display_name": "Python 3 (ipykernel)",
   "language": "python",
   "name": "python3"
  },
  "language_info": {
   "codemirror_mode": {
    "name": "ipython",
    "version": 3
   },
   "file_extension": ".py",
   "mimetype": "text/x-python",
   "name": "python",
   "nbconvert_exporter": "python",
   "pygments_lexer": "ipython3",
   "version": "3.12.0"
  }
 },
 "nbformat": 4,
 "nbformat_minor": 5
}
